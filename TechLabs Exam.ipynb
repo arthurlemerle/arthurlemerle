{
 "cells": [
  {
   "cell_type": "markdown",
   "metadata": {},
   "source": [
    "<img src=\"TechLabs.png\">"
   ]
  },
  {
   "cell_type": "markdown",
   "metadata": {},
   "source": [
    "<h2>Arthur Lemerle</h2>"
   ]
  },
  {
   "cell_type": "markdown",
   "metadata": {},
   "source": [
    "\n",
    "<p> This exam will test your knowledge in Artificial Intelligence. </p>\n",
    "<p> We will test the following: </p>\n",
    "\n",
    "- Logistic Regressions\n",
    "- Neural Networks\n",
    "- Monte Carlo Simulation"
   ]
  },
  {
   "cell_type": "markdown",
   "metadata": {},
   "source": [
    "# Question 1:\n",
    "Below is the code to import a standard dataset with breast cancer.\n",
    "When you run the cell, you will have it stored as the object \"data\",\n",
    "and the description of the dataset is printed out for you.\n",
    "\n",
    "### Your task is to create two models for classifying the diagnosis, and compare the accuracy metrics for the two:\n",
    "### 1. a) Logistic Regression: \n",
    "\"sklearn.linear_model\" offers good logit classifiers. Because the dataset is fairly small (~500 rows), we suggest that you use the \"liblinear\" solver for fitting the logit classifier.\n",
    "\n",
    "Split the dataset into a test and training (30% test / 70% training) dataset and train the model on the training dataset. Then, classify the test dataset, and compute the accuracy, which you can print as an output.\n",
    "\n",
    "P.S.: We do not expect you to regularize for type 1 or type 2 errors. Your goal is to build models that classify well the diagnosis. Also, we do not expect you to spend hours on feature engineering and/or other things that may or may not improve testing accuracy. A good answer shall just contain a sensible model and the testing accuracy."
   ]
  },
  {
   "cell_type": "code",
   "execution_count": 80,
   "metadata": {},
   "outputs": [
    {
     "name": "stdout",
     "output_type": "stream",
     "text": [
      "(569, 30)\n"
     ]
    }
   ],
   "source": [
    "# Imports\n",
    "import pandas as pd\n",
    "import numpy as np\n",
    "from sklearn.model_selection import train_test_split\n",
    "from sklearn import preprocessing\n",
    "from sklearn.linear_model import LogisticRegression\n",
    "from sklearn import metrics\n",
    "from sklearn.model_selection import cross_val_score\n",
    "\n",
    "from sklearn import datasets\n",
    "data = datasets.load_breast_cancer()\n",
    "print(np.shape(data.data))"
   ]
  },
  {
   "cell_type": "code",
   "execution_count": 81,
   "metadata": {},
   "outputs": [
    {
     "name": "stdout",
     "output_type": "stream",
     "text": [
      ".. _breast_cancer_dataset:\n",
      "\n",
      "Breast cancer wisconsin (diagnostic) dataset\n",
      "--------------------------------------------\n",
      "\n",
      "**Data Set Characteristics:**\n",
      "\n",
      "    :Number of Instances: 569\n",
      "\n",
      "    :Number of Attributes: 30 numeric, predictive attributes and the class\n",
      "\n",
      "    :Attribute Information:\n",
      "        - radius (mean of distances from center to points on the perimeter)\n",
      "        - texture (standard deviation of gray-scale values)\n",
      "        - perimeter\n",
      "        - area\n",
      "        - smoothness (local variation in radius lengths)\n",
      "        - compactness (perimeter^2 / area - 1.0)\n",
      "        - concavity (severity of concave portions of the contour)\n",
      "        - concave points (number of concave portions of the contour)\n",
      "        - symmetry \n",
      "        - fractal dimension (\"coastline approximation\" - 1)\n",
      "\n",
      "        The mean, standard error, and \"worst\" or largest (mean of the three\n",
      "        largest values) of these features were computed for each image,\n",
      "        resulting in 30 features.  For instance, field 3 is Mean Radius, field\n",
      "        13 is Radius SE, field 23 is Worst Radius.\n",
      "\n",
      "        - class:\n",
      "                - WDBC-Malignant\n",
      "                - WDBC-Benign\n",
      "\n",
      "    :Summary Statistics:\n",
      "\n",
      "    ===================================== ====== ======\n",
      "                                           Min    Max\n",
      "    ===================================== ====== ======\n",
      "    radius (mean):                        6.981  28.11\n",
      "    texture (mean):                       9.71   39.28\n",
      "    perimeter (mean):                     43.79  188.5\n",
      "    area (mean):                          143.5  2501.0\n",
      "    smoothness (mean):                    0.053  0.163\n",
      "    compactness (mean):                   0.019  0.345\n",
      "    concavity (mean):                     0.0    0.427\n",
      "    concave points (mean):                0.0    0.201\n",
      "    symmetry (mean):                      0.106  0.304\n",
      "    fractal dimension (mean):             0.05   0.097\n",
      "    radius (standard error):              0.112  2.873\n",
      "    texture (standard error):             0.36   4.885\n",
      "    perimeter (standard error):           0.757  21.98\n",
      "    area (standard error):                6.802  542.2\n",
      "    smoothness (standard error):          0.002  0.031\n",
      "    compactness (standard error):         0.002  0.135\n",
      "    concavity (standard error):           0.0    0.396\n",
      "    concave points (standard error):      0.0    0.053\n",
      "    symmetry (standard error):            0.008  0.079\n",
      "    fractal dimension (standard error):   0.001  0.03\n",
      "    radius (worst):                       7.93   36.04\n",
      "    texture (worst):                      12.02  49.54\n",
      "    perimeter (worst):                    50.41  251.2\n",
      "    area (worst):                         185.2  4254.0\n",
      "    smoothness (worst):                   0.071  0.223\n",
      "    compactness (worst):                  0.027  1.058\n",
      "    concavity (worst):                    0.0    1.252\n",
      "    concave points (worst):               0.0    0.291\n",
      "    symmetry (worst):                     0.156  0.664\n",
      "    fractal dimension (worst):            0.055  0.208\n",
      "    ===================================== ====== ======\n",
      "\n",
      "    :Missing Attribute Values: None\n",
      "\n",
      "    :Class Distribution: 212 - Malignant, 357 - Benign\n",
      "\n",
      "    :Creator:  Dr. William H. Wolberg, W. Nick Street, Olvi L. Mangasarian\n",
      "\n",
      "    :Donor: Nick Street\n",
      "\n",
      "    :Date: November, 1995\n",
      "\n",
      "This is a copy of UCI ML Breast Cancer Wisconsin (Diagnostic) datasets.\n",
      "https://goo.gl/U2Uwz2\n",
      "\n",
      "Features are computed from a digitized image of a fine needle\n",
      "aspirate (FNA) of a breast mass.  They describe\n",
      "characteristics of the cell nuclei present in the image.\n",
      "\n",
      "Separating plane described above was obtained using\n",
      "Multisurface Method-Tree (MSM-T) [K. P. Bennett, \"Decision Tree\n",
      "Construction Via Linear Programming.\" Proceedings of the 4th\n",
      "Midwest Artificial Intelligence and Cognitive Science Society,\n",
      "pp. 97-101, 1992], a classification method which uses linear\n",
      "programming to construct a decision tree.  Relevant features\n",
      "were selected using an exhaustive search in the space of 1-4\n",
      "features and 1-3 separating planes.\n",
      "\n",
      "The actual linear program used to obtain the separating plane\n",
      "in the 3-dimensional space is that described in:\n",
      "[K. P. Bennett and O. L. Mangasarian: \"Robust Linear\n",
      "Programming Discrimination of Two Linearly Inseparable Sets\",\n",
      "Optimization Methods and Software 1, 1992, 23-34].\n",
      "\n",
      "This database is also available through the UW CS ftp server:\n",
      "\n",
      "ftp ftp.cs.wisc.edu\n",
      "cd math-prog/cpo-dataset/machine-learn/WDBC/\n",
      "\n",
      ".. topic:: References\n",
      "\n",
      "   - W.N. Street, W.H. Wolberg and O.L. Mangasarian. Nuclear feature extraction \n",
      "     for breast tumor diagnosis. IS&T/SPIE 1993 International Symposium on \n",
      "     Electronic Imaging: Science and Technology, volume 1905, pages 861-870,\n",
      "     San Jose, CA, 1993.\n",
      "   - O.L. Mangasarian, W.N. Street and W.H. Wolberg. Breast cancer diagnosis and \n",
      "     prognosis via linear programming. Operations Research, 43(4), pages 570-577, \n",
      "     July-August 1995.\n",
      "   - W.H. Wolberg, W.N. Street, and O.L. Mangasarian. Machine learning techniques\n",
      "     to diagnose breast cancer from fine-needle aspirates. Cancer Letters 77 (1994) \n",
      "     163-171.\n"
     ]
    }
   ],
   "source": [
    "print(data.DESCR)"
   ]
  },
  {
   "cell_type": "code",
   "execution_count": 94,
   "metadata": {},
   "outputs": [],
   "source": [
    "# I got confused at some point so I renamed my data\n",
    "sklearn_data = data"
   ]
  },
  {
   "cell_type": "code",
   "execution_count": 95,
   "metadata": {},
   "outputs": [
    {
     "name": "stdout",
     "output_type": "stream",
     "text": [
      "['mean radius' 'mean texture' 'mean perimeter' 'mean area'\n",
      " 'mean smoothness' 'mean compactness' 'mean concavity'\n",
      " 'mean concave points' 'mean symmetry' 'mean fractal dimension'\n",
      " 'radius error' 'texture error' 'perimeter error' 'area error'\n",
      " 'smoothness error' 'compactness error' 'concavity error'\n",
      " 'concave points error' 'symmetry error' 'fractal dimension error'\n",
      " 'worst radius' 'worst texture' 'worst perimeter' 'worst area'\n",
      " 'worst smoothness' 'worst compactness' 'worst concavity'\n",
      " 'worst concave points' 'worst symmetry' 'worst fractal dimension']\n"
     ]
    }
   ],
   "source": [
    "# I am just printing some stuffs here, don't worry about it\n",
    "print(sklearn_data.feature_names)"
   ]
  },
  {
   "cell_type": "code",
   "execution_count": 96,
   "metadata": {},
   "outputs": [
    {
     "name": "stdout",
     "output_type": "stream",
     "text": [
      "['malignant' 'benign']\n"
     ]
    }
   ],
   "source": [
    "# Same here\n",
    "print(sklearn_data.target_names)"
   ]
  },
  {
   "cell_type": "code",
   "execution_count": 97,
   "metadata": {},
   "outputs": [
    {
     "data": {
      "text/html": [
       "<div>\n",
       "<style scoped>\n",
       "    .dataframe tbody tr th:only-of-type {\n",
       "        vertical-align: middle;\n",
       "    }\n",
       "\n",
       "    .dataframe tbody tr th {\n",
       "        vertical-align: top;\n",
       "    }\n",
       "\n",
       "    .dataframe thead th {\n",
       "        text-align: right;\n",
       "    }\n",
       "</style>\n",
       "<table border=\"1\" class=\"dataframe\">\n",
       "  <thead>\n",
       "    <tr style=\"text-align: right;\">\n",
       "      <th></th>\n",
       "      <th>mean radius</th>\n",
       "      <th>mean texture</th>\n",
       "      <th>mean perimeter</th>\n",
       "      <th>mean area</th>\n",
       "      <th>mean smoothness</th>\n",
       "      <th>mean compactness</th>\n",
       "      <th>mean concavity</th>\n",
       "      <th>mean concave points</th>\n",
       "      <th>mean symmetry</th>\n",
       "      <th>mean fractal dimension</th>\n",
       "      <th>...</th>\n",
       "      <th>worst texture</th>\n",
       "      <th>worst perimeter</th>\n",
       "      <th>worst area</th>\n",
       "      <th>worst smoothness</th>\n",
       "      <th>worst compactness</th>\n",
       "      <th>worst concavity</th>\n",
       "      <th>worst concave points</th>\n",
       "      <th>worst symmetry</th>\n",
       "      <th>worst fractal dimension</th>\n",
       "      <th>target</th>\n",
       "    </tr>\n",
       "  </thead>\n",
       "  <tbody>\n",
       "    <tr>\n",
       "      <th>0</th>\n",
       "      <td>17.99</td>\n",
       "      <td>10.38</td>\n",
       "      <td>122.80</td>\n",
       "      <td>1001.0</td>\n",
       "      <td>0.11840</td>\n",
       "      <td>0.27760</td>\n",
       "      <td>0.3001</td>\n",
       "      <td>0.14710</td>\n",
       "      <td>0.2419</td>\n",
       "      <td>0.07871</td>\n",
       "      <td>...</td>\n",
       "      <td>17.33</td>\n",
       "      <td>184.60</td>\n",
       "      <td>2019.0</td>\n",
       "      <td>0.1622</td>\n",
       "      <td>0.6656</td>\n",
       "      <td>0.7119</td>\n",
       "      <td>0.2654</td>\n",
       "      <td>0.4601</td>\n",
       "      <td>0.11890</td>\n",
       "      <td>0.0</td>\n",
       "    </tr>\n",
       "    <tr>\n",
       "      <th>1</th>\n",
       "      <td>20.57</td>\n",
       "      <td>17.77</td>\n",
       "      <td>132.90</td>\n",
       "      <td>1326.0</td>\n",
       "      <td>0.08474</td>\n",
       "      <td>0.07864</td>\n",
       "      <td>0.0869</td>\n",
       "      <td>0.07017</td>\n",
       "      <td>0.1812</td>\n",
       "      <td>0.05667</td>\n",
       "      <td>...</td>\n",
       "      <td>23.41</td>\n",
       "      <td>158.80</td>\n",
       "      <td>1956.0</td>\n",
       "      <td>0.1238</td>\n",
       "      <td>0.1866</td>\n",
       "      <td>0.2416</td>\n",
       "      <td>0.1860</td>\n",
       "      <td>0.2750</td>\n",
       "      <td>0.08902</td>\n",
       "      <td>0.0</td>\n",
       "    </tr>\n",
       "    <tr>\n",
       "      <th>2</th>\n",
       "      <td>19.69</td>\n",
       "      <td>21.25</td>\n",
       "      <td>130.00</td>\n",
       "      <td>1203.0</td>\n",
       "      <td>0.10960</td>\n",
       "      <td>0.15990</td>\n",
       "      <td>0.1974</td>\n",
       "      <td>0.12790</td>\n",
       "      <td>0.2069</td>\n",
       "      <td>0.05999</td>\n",
       "      <td>...</td>\n",
       "      <td>25.53</td>\n",
       "      <td>152.50</td>\n",
       "      <td>1709.0</td>\n",
       "      <td>0.1444</td>\n",
       "      <td>0.4245</td>\n",
       "      <td>0.4504</td>\n",
       "      <td>0.2430</td>\n",
       "      <td>0.3613</td>\n",
       "      <td>0.08758</td>\n",
       "      <td>0.0</td>\n",
       "    </tr>\n",
       "    <tr>\n",
       "      <th>3</th>\n",
       "      <td>11.42</td>\n",
       "      <td>20.38</td>\n",
       "      <td>77.58</td>\n",
       "      <td>386.1</td>\n",
       "      <td>0.14250</td>\n",
       "      <td>0.28390</td>\n",
       "      <td>0.2414</td>\n",
       "      <td>0.10520</td>\n",
       "      <td>0.2597</td>\n",
       "      <td>0.09744</td>\n",
       "      <td>...</td>\n",
       "      <td>26.50</td>\n",
       "      <td>98.87</td>\n",
       "      <td>567.7</td>\n",
       "      <td>0.2098</td>\n",
       "      <td>0.8663</td>\n",
       "      <td>0.6869</td>\n",
       "      <td>0.2575</td>\n",
       "      <td>0.6638</td>\n",
       "      <td>0.17300</td>\n",
       "      <td>0.0</td>\n",
       "    </tr>\n",
       "    <tr>\n",
       "      <th>4</th>\n",
       "      <td>20.29</td>\n",
       "      <td>14.34</td>\n",
       "      <td>135.10</td>\n",
       "      <td>1297.0</td>\n",
       "      <td>0.10030</td>\n",
       "      <td>0.13280</td>\n",
       "      <td>0.1980</td>\n",
       "      <td>0.10430</td>\n",
       "      <td>0.1809</td>\n",
       "      <td>0.05883</td>\n",
       "      <td>...</td>\n",
       "      <td>16.67</td>\n",
       "      <td>152.20</td>\n",
       "      <td>1575.0</td>\n",
       "      <td>0.1374</td>\n",
       "      <td>0.2050</td>\n",
       "      <td>0.4000</td>\n",
       "      <td>0.1625</td>\n",
       "      <td>0.2364</td>\n",
       "      <td>0.07678</td>\n",
       "      <td>0.0</td>\n",
       "    </tr>\n",
       "  </tbody>\n",
       "</table>\n",
       "<p>5 rows × 31 columns</p>\n",
       "</div>"
      ],
      "text/plain": [
       "   mean radius  mean texture  mean perimeter  mean area  mean smoothness  \\\n",
       "0        17.99         10.38          122.80     1001.0          0.11840   \n",
       "1        20.57         17.77          132.90     1326.0          0.08474   \n",
       "2        19.69         21.25          130.00     1203.0          0.10960   \n",
       "3        11.42         20.38           77.58      386.1          0.14250   \n",
       "4        20.29         14.34          135.10     1297.0          0.10030   \n",
       "\n",
       "   mean compactness  mean concavity  mean concave points  mean symmetry  \\\n",
       "0           0.27760          0.3001              0.14710         0.2419   \n",
       "1           0.07864          0.0869              0.07017         0.1812   \n",
       "2           0.15990          0.1974              0.12790         0.2069   \n",
       "3           0.28390          0.2414              0.10520         0.2597   \n",
       "4           0.13280          0.1980              0.10430         0.1809   \n",
       "\n",
       "   mean fractal dimension  ...  worst texture  worst perimeter  worst area  \\\n",
       "0                 0.07871  ...          17.33           184.60      2019.0   \n",
       "1                 0.05667  ...          23.41           158.80      1956.0   \n",
       "2                 0.05999  ...          25.53           152.50      1709.0   \n",
       "3                 0.09744  ...          26.50            98.87       567.7   \n",
       "4                 0.05883  ...          16.67           152.20      1575.0   \n",
       "\n",
       "   worst smoothness  worst compactness  worst concavity  worst concave points  \\\n",
       "0            0.1622             0.6656           0.7119                0.2654   \n",
       "1            0.1238             0.1866           0.2416                0.1860   \n",
       "2            0.1444             0.4245           0.4504                0.2430   \n",
       "3            0.2098             0.8663           0.6869                0.2575   \n",
       "4            0.1374             0.2050           0.4000                0.1625   \n",
       "\n",
       "   worst symmetry  worst fractal dimension  target  \n",
       "0          0.4601                  0.11890     0.0  \n",
       "1          0.2750                  0.08902     0.0  \n",
       "2          0.3613                  0.08758     0.0  \n",
       "3          0.6638                  0.17300     0.0  \n",
       "4          0.2364                  0.07678     0.0  \n",
       "\n",
       "[5 rows x 31 columns]"
      ]
     },
     "execution_count": 97,
     "metadata": {},
     "output_type": "execute_result"
    }
   ],
   "source": [
    "# Convert Dataset into DataFrame (I like DataFrames better)\n",
    "def convert_to_DataFrame():\n",
    "    data = np.c_[sklearn_data.data, sklearn_data.target]\n",
    "    columns = np.append(sklearn_data.feature_names, [\"target\"])\n",
    "    return pd.DataFrame(data, columns=columns)\n",
    "pandas_DataFrame = convert_to_DataFrame()\n",
    "pandas_DataFrame.head()"
   ]
  },
  {
   "cell_type": "code",
   "execution_count": 138,
   "metadata": {},
   "outputs": [],
   "source": [
    "# Split DataFrame into X (data) and y (label) \n",
    "X = pandas_DataFrame[sklearn_data.feature_names]\n",
    "y = pandas_DataFrame[\"target\"]"
   ]
  },
  {
   "cell_type": "code",
   "execution_count": 145,
   "metadata": {},
   "outputs": [],
   "source": [
    "# Split X and y into train and test sets\n",
    "X_train, X_test, y_train, y_test = train_test_split(X, y, test_size=0.3)"
   ]
  },
  {
   "cell_type": "code",
   "execution_count": 146,
   "metadata": {},
   "outputs": [],
   "source": [
    "# I normalized the data\n",
    "# Why? Column \"worst area\" per ex. has super high figures compare to column \"mean fractal dimension\"\n",
    "# I guess it makes sense to do it\n",
    "\n",
    "min_max_scaler = preprocessing.MinMaxScaler()\n",
    "X_train = min_max_scaler.fit_transform(X_train)\n",
    "X_test = min_max_scaler.transform(X_test)"
   ]
  },
  {
   "cell_type": "code",
   "execution_count": 147,
   "metadata": {},
   "outputs": [
    {
     "data": {
      "text/plain": [
       "LogisticRegression(C=1.0, class_weight=None, dual=False, fit_intercept=True,\n",
       "                   intercept_scaling=1, l1_ratio=None, max_iter=100,\n",
       "                   multi_class='warn', n_jobs=None, penalty='l2',\n",
       "                   random_state=None, solver='liblinear', tol=0.0001, verbose=0,\n",
       "                   warm_start=False)"
      ]
     },
     "execution_count": 147,
     "metadata": {},
     "output_type": "execute_result"
    }
   ],
   "source": [
    "# Creation of the logistic regression model using \"liblinear\" solver\n",
    "logreg = LogisticRegression(solver='liblinear')\n",
    "logreg.fit(X_train, y_train)"
   ]
  },
  {
   "cell_type": "code",
   "execution_count": 148,
   "metadata": {},
   "outputs": [
    {
     "name": "stdout",
     "output_type": "stream",
     "text": [
      "Accuracy of logistic regression classifier on test set: 0.95\n"
     ]
    }
   ],
   "source": [
    "# Test of accuracy with logistic regression \n",
    "y_pred = logreg.predict(X_test)\n",
    "print('Accuracy of logistic regression classifier on test set: {:.2f}'.format(logreg.score(X_test, y_test)))"
   ]
  },
  {
   "cell_type": "code",
   "execution_count": 273,
   "metadata": {},
   "outputs": [
    {
     "data": {
      "text/plain": [
       "0.9508998790078644"
      ]
     },
     "execution_count": 273,
     "metadata": {},
     "output_type": "execute_result"
    }
   ],
   "source": [
    "# Cross Validation\n",
    "scores = cross_val_score(logreg, X, y, cv=10)\n",
    "lalala = scores.mean()\n",
    "lalala"
   ]
  },
  {
   "cell_type": "markdown",
   "metadata": {},
   "source": [
    "# Print the logit accuracy below:"
   ]
  },
  {
   "cell_type": "code",
   "execution_count": 274,
   "metadata": {},
   "outputs": [
    {
     "name": "stdout",
     "output_type": "stream",
     "text": [
      "\n",
      "testing set accuracy with logit is: 0.9508998790078644\n"
     ]
    }
   ],
   "source": [
    "logitacc = lalala\n",
    "print(f\"\\ntesting set accuracy with logit is: {logitacc}\")"
   ]
  },
  {
   "cell_type": "markdown",
   "metadata": {},
   "source": [
    "### 1. b) Feedforward Neural Network:\n",
    "So far, so good. Let's see how a feedforward neural network does for the same task.\n",
    "\n",
    "Take the same train/test split as in a), and construct the following neural network, which you fit to the data:"
   ]
  },
  {
   "cell_type": "code",
   "execution_count": 8,
   "metadata": {
    "jupyter": {
     "source_hidden": true
    }
   },
   "outputs": [
    {
     "data": {
      "text/plain": [
       "['Model: \"sequential_2\"',\n",
       " '_________________________________________________________________',\n",
       " 'Layer (type)                 Output Shape              Param #   ',\n",
       " '=================================================================',\n",
       " 'dense_5 (Dense)              (None, 30)                930       ',\n",
       " '_________________________________________________________________',\n",
       " 'dense_6 (Dense)              (None, 50)                1550      ',\n",
       " '_________________________________________________________________',\n",
       " 'dense_7 (Dense)              (None, 30)                1530      ',\n",
       " '_________________________________________________________________',\n",
       " 'dense_8 (Dense)              (None, 1)                 31        ',\n",
       " '=================================================================',\n",
       " 'Total params: 4,041',\n",
       " 'Trainable params: 4,041',\n",
       " 'Non-trainable params: 0',\n",
       " '_________________________________________________________________']"
      ]
     },
     "execution_count": 8,
     "metadata": {},
     "output_type": "execute_result"
    }
   ],
   "source": [
    "import pickle\n",
    "pickle.loads(b'\\x80\\x03]q\\x00(X\\x15\\x00\\x00\\x00Model: \"sequential_2\"q\\x01XA\\x00\\x00\\x00_________________________________________________________________q\\x02XA\\x00\\x00\\x00Layer (type)                 Output Shape              Param #   q\\x03XA\\x00\\x00\\x00=================================================================q\\x04XA\\x00\\x00\\x00dense_5 (Dense)              (None, 30)                930       q\\x05XA\\x00\\x00\\x00_________________________________________________________________q\\x06XA\\x00\\x00\\x00dense_6 (Dense)              (None, 50)                1550      q\\x07XA\\x00\\x00\\x00_________________________________________________________________q\\x08XA\\x00\\x00\\x00dense_7 (Dense)              (None, 30)                1530      q\\tXA\\x00\\x00\\x00_________________________________________________________________q\\nXA\\x00\\x00\\x00dense_8 (Dense)              (None, 1)                 31        q\\x0bXA\\x00\\x00\\x00=================================================================q\\x0cX\\x13\\x00\\x00\\x00Total params: 4,041q\\rX\\x17\\x00\\x00\\x00Trainable params: 4,041q\\x0eX\\x17\\x00\\x00\\x00Non-trainable params: 0q\\x0fXA\\x00\\x00\\x00_________________________________________________________________q\\x10e.')"
   ]
  },
  {
   "cell_type": "markdown",
   "metadata": {},
   "source": [
    "### You can use the library keras to contruct the ANN. Since we are dealing with a classification problem, we recommend binary_crossentropy as a loss function.\n",
    "Choose a reasonable batch size and epoch count and train the model.\n",
    "### Here again, print the testing dataset accuracy:"
   ]
  },
  {
   "cell_type": "code",
   "execution_count": 165,
   "metadata": {},
   "outputs": [
    {
     "name": "stdout",
     "output_type": "stream",
     "text": [
      "Collecting package metadata (current_repodata.json): done\n",
      "Solving environment: done\n",
      "\n",
      "# All requested packages already installed.\n",
      "\n",
      "\n",
      "Note: you may need to restart the kernel to use updated packages.\n"
     ]
    }
   ],
   "source": [
    "conda install keras"
   ]
  },
  {
   "cell_type": "code",
   "execution_count": 229,
   "metadata": {},
   "outputs": [],
   "source": [
    "# Imports\n",
    "import keras\n",
    "from keras.models import Sequential\n",
    "from keras.layers import Dense\n",
    "from sklearn.preprocessing import StandardScaler\n",
    "from keras.utils import to_categorical\n",
    "from sklearn.metrics import accuracy_score"
   ]
  },
  {
   "cell_type": "code",
   "execution_count": 230,
   "metadata": {},
   "outputs": [],
   "source": [
    "# Split DataFrame into X (data) and y (label) \n",
    "X_2 = pandas_DataFrame[sklearn_data.feature_names]\n",
    "y_2 = pandas_DataFrame[\"target\"]"
   ]
  },
  {
   "cell_type": "code",
   "execution_count": 231,
   "metadata": {},
   "outputs": [],
   "source": [
    "# Normalizing the data\n",
    "sc = StandardScaler()\n",
    "X_2 = sc.fit_transform(X_2)"
   ]
  },
  {
   "cell_type": "code",
   "execution_count": 232,
   "metadata": {},
   "outputs": [],
   "source": [
    "# Convert labelled data to binary to resolve model error\n",
    "y_2 = to_categorical(y_2)"
   ]
  },
  {
   "cell_type": "code",
   "execution_count": 264,
   "metadata": {},
   "outputs": [],
   "source": [
    "# Set test size to 15% because of ANN, which needs a larger training size\n",
    "X_train_2,X_test_2,y_train_2,y_test_2 = train_test_split(X_2,y_2,test_size = 0.15)"
   ]
  },
  {
   "cell_type": "code",
   "execution_count": 265,
   "metadata": {},
   "outputs": [],
   "source": [
    "# Neural network\n",
    "model = Sequential()\n",
    "model.add(Dense(32, input_dim=30, activation='relu'))\n",
    "model.add(Dense(2, activation='sigmoid'))\n",
    "model.compile(loss='binary_crossentropy', optimizer='rmsprop', metrics=['accuracy'])"
   ]
  },
  {
   "cell_type": "code",
   "execution_count": 266,
   "metadata": {},
   "outputs": [
    {
     "name": "stdout",
     "output_type": "stream",
     "text": [
      "Epoch 1/100\n",
      "483/483 [==============================] - 3s 6ms/step - loss: 0.7705 - acc: 0.5497\n",
      "Epoch 2/100\n",
      "483/483 [==============================] - 0s 148us/step - loss: 0.5227 - acc: 0.7899\n",
      "Epoch 3/100\n",
      "483/483 [==============================] - 0s 159us/step - loss: 0.3840 - acc: 0.9006\n",
      "Epoch 4/100\n",
      "483/483 [==============================] - 0s 172us/step - loss: 0.2974 - acc: 0.9306\n",
      "Epoch 5/100\n",
      "483/483 [==============================] - 0s 173us/step - loss: 0.2370 - acc: 0.9482\n",
      "Epoch 6/100\n",
      "483/483 [==============================] - 0s 180us/step - loss: 0.1926 - acc: 0.9534\n",
      "Epoch 7/100\n",
      "483/483 [==============================] - 0s 191us/step - loss: 0.1602 - acc: 0.9648\n",
      "Epoch 8/100\n",
      "483/483 [==============================] - 0s 169us/step - loss: 0.1359 - acc: 0.9679\n",
      "Epoch 9/100\n",
      "483/483 [==============================] - 0s 178us/step - loss: 0.1178 - acc: 0.9741\n",
      "Epoch 10/100\n",
      "483/483 [==============================] - 0s 191us/step - loss: 0.1048 - acc: 0.9762\n",
      "Epoch 11/100\n",
      "483/483 [==============================] - 0s 157us/step - loss: 0.0942 - acc: 0.9772\n",
      "Epoch 12/100\n",
      "483/483 [==============================] - 0s 194us/step - loss: 0.0864 - acc: 0.9783\n",
      "Epoch 13/100\n",
      "483/483 [==============================] - 0s 142us/step - loss: 0.0798 - acc: 0.9783\n",
      "Epoch 14/100\n",
      "483/483 [==============================] - 0s 159us/step - loss: 0.0748 - acc: 0.9783\n",
      "Epoch 15/100\n",
      "483/483 [==============================] - 0s 144us/step - loss: 0.0705 - acc: 0.9803\n",
      "Epoch 16/100\n",
      "483/483 [==============================] - 0s 172us/step - loss: 0.0674 - acc: 0.9834\n",
      "Epoch 17/100\n",
      "483/483 [==============================] - 0s 152us/step - loss: 0.0641 - acc: 0.9845\n",
      "Epoch 18/100\n",
      "483/483 [==============================] - 0s 151us/step - loss: 0.0619 - acc: 0.9834\n",
      "Epoch 19/100\n",
      "483/483 [==============================] - 0s 155us/step - loss: 0.0599 - acc: 0.9834\n",
      "Epoch 20/100\n",
      "483/483 [==============================] - 0s 141us/step - loss: 0.0583 - acc: 0.9834\n",
      "Epoch 21/100\n",
      "483/483 [==============================] - 0s 158us/step - loss: 0.0566 - acc: 0.9865\n",
      "Epoch 22/100\n",
      "483/483 [==============================] - 0s 143us/step - loss: 0.0550 - acc: 0.9865\n",
      "Epoch 23/100\n",
      "483/483 [==============================] - 0s 142us/step - loss: 0.0537 - acc: 0.9865\n",
      "Epoch 24/100\n",
      "483/483 [==============================] - 0s 141us/step - loss: 0.0522 - acc: 0.9876\n",
      "Epoch 25/100\n",
      "483/483 [==============================] - 0s 153us/step - loss: 0.0510 - acc: 0.9876\n",
      "Epoch 26/100\n",
      "483/483 [==============================] - 0s 191us/step - loss: 0.0497 - acc: 0.9865\n",
      "Epoch 27/100\n",
      "483/483 [==============================] - 0s 155us/step - loss: 0.0485 - acc: 0.9876\n",
      "Epoch 28/100\n",
      "483/483 [==============================] - 0s 200us/step - loss: 0.0475 - acc: 0.9865\n",
      "Epoch 29/100\n",
      "483/483 [==============================] - 0s 203us/step - loss: 0.0467 - acc: 0.9865\n",
      "Epoch 30/100\n",
      "483/483 [==============================] - 0s 200us/step - loss: 0.0454 - acc: 0.9876\n",
      "Epoch 31/100\n",
      "483/483 [==============================] - 0s 200us/step - loss: 0.0448 - acc: 0.9876\n",
      "Epoch 32/100\n",
      "483/483 [==============================] - 0s 211us/step - loss: 0.0438 - acc: 0.9876\n",
      "Epoch 33/100\n",
      "483/483 [==============================] - 0s 197us/step - loss: 0.0427 - acc: 0.9876\n",
      "Epoch 34/100\n",
      "483/483 [==============================] - 0s 191us/step - loss: 0.0419 - acc: 0.9876\n",
      "Epoch 35/100\n",
      "483/483 [==============================] - 0s 209us/step - loss: 0.0412 - acc: 0.9876\n",
      "Epoch 36/100\n",
      "483/483 [==============================] - 0s 213us/step - loss: 0.0403 - acc: 0.9876\n",
      "Epoch 37/100\n",
      "483/483 [==============================] - 0s 216us/step - loss: 0.0395 - acc: 0.9876\n",
      "Epoch 38/100\n",
      "483/483 [==============================] - 0s 205us/step - loss: 0.0390 - acc: 0.9876\n",
      "Epoch 39/100\n",
      "483/483 [==============================] - 0s 192us/step - loss: 0.0380 - acc: 0.9876\n",
      "Epoch 40/100\n",
      "483/483 [==============================] - 0s 196us/step - loss: 0.0374 - acc: 0.9876\n",
      "Epoch 41/100\n",
      "483/483 [==============================] - 0s 183us/step - loss: 0.0367 - acc: 0.9876\n",
      "Epoch 42/100\n",
      "483/483 [==============================] - 0s 204us/step - loss: 0.0354 - acc: 0.9876\n",
      "Epoch 43/100\n",
      "483/483 [==============================] - 0s 194us/step - loss: 0.0352 - acc: 0.9876\n",
      "Epoch 44/100\n",
      "483/483 [==============================] - 0s 202us/step - loss: 0.0344 - acc: 0.9876\n",
      "Epoch 45/100\n",
      "483/483 [==============================] - 0s 201us/step - loss: 0.0342 - acc: 0.9876\n",
      "Epoch 46/100\n",
      "483/483 [==============================] - 0s 171us/step - loss: 0.0338 - acc: 0.9876\n",
      "Epoch 47/100\n",
      "483/483 [==============================] - 0s 163us/step - loss: 0.0334 - acc: 0.9876\n",
      "Epoch 48/100\n",
      "483/483 [==============================] - 0s 148us/step - loss: 0.0326 - acc: 0.9876\n",
      "Epoch 49/100\n",
      "483/483 [==============================] - 0s 158us/step - loss: 0.0321 - acc: 0.9886\n",
      "Epoch 50/100\n",
      "483/483 [==============================] - 0s 164us/step - loss: 0.0314 - acc: 0.9896\n",
      "Epoch 51/100\n",
      "483/483 [==============================] - 0s 212us/step - loss: 0.0308 - acc: 0.9896\n",
      "Epoch 52/100\n",
      "483/483 [==============================] - 0s 200us/step - loss: 0.0301 - acc: 0.9896\n",
      "Epoch 53/100\n",
      "483/483 [==============================] - 0s 190us/step - loss: 0.0298 - acc: 0.9896\n",
      "Epoch 54/100\n",
      "483/483 [==============================] - 0s 159us/step - loss: 0.0292 - acc: 0.9896\n",
      "Epoch 55/100\n",
      "483/483 [==============================] - 0s 174us/step - loss: 0.0287 - acc: 0.9907\n",
      "Epoch 56/100\n",
      "483/483 [==============================] - 0s 195us/step - loss: 0.0280 - acc: 0.9896\n",
      "Epoch 57/100\n",
      "483/483 [==============================] - 0s 182us/step - loss: 0.0275 - acc: 0.9907\n",
      "Epoch 58/100\n",
      "483/483 [==============================] - 0s 177us/step - loss: 0.0273 - acc: 0.9907\n",
      "Epoch 59/100\n",
      "483/483 [==============================] - 0s 125us/step - loss: 0.0262 - acc: 0.9907\n",
      "Epoch 60/100\n",
      "483/483 [==============================] - 0s 132us/step - loss: 0.0259 - acc: 0.9896\n",
      "Epoch 61/100\n",
      "483/483 [==============================] - 0s 134us/step - loss: 0.0255 - acc: 0.9896\n",
      "Epoch 62/100\n",
      "483/483 [==============================] - 0s 126us/step - loss: 0.0254 - acc: 0.9907\n",
      "Epoch 63/100\n",
      "483/483 [==============================] - 0s 181us/step - loss: 0.0246 - acc: 0.9907\n",
      "Epoch 64/100\n",
      "483/483 [==============================] - 0s 215us/step - loss: 0.0244 - acc: 0.9907\n",
      "Epoch 65/100\n",
      "483/483 [==============================] - 0s 179us/step - loss: 0.0240 - acc: 0.9907\n",
      "Epoch 66/100\n",
      "483/483 [==============================] - 0s 127us/step - loss: 0.0236 - acc: 0.9917\n",
      "Epoch 67/100\n",
      "483/483 [==============================] - 0s 178us/step - loss: 0.0229 - acc: 0.9907\n",
      "Epoch 68/100\n",
      "483/483 [==============================] - 0s 188us/step - loss: 0.0222 - acc: 0.9917\n",
      "Epoch 69/100\n",
      "483/483 [==============================] - 0s 181us/step - loss: 0.0218 - acc: 0.9917\n",
      "Epoch 70/100\n",
      "483/483 [==============================] - 0s 184us/step - loss: 0.0220 - acc: 0.9917\n",
      "Epoch 71/100\n",
      "483/483 [==============================] - 0s 149us/step - loss: 0.0212 - acc: 0.9928\n",
      "Epoch 72/100\n",
      "483/483 [==============================] - 0s 213us/step - loss: 0.0209 - acc: 0.9917\n",
      "Epoch 73/100\n",
      "483/483 [==============================] - 0s 205us/step - loss: 0.0209 - acc: 0.9928\n",
      "Epoch 74/100\n",
      "483/483 [==============================] - 0s 201us/step - loss: 0.0206 - acc: 0.9917\n",
      "Epoch 75/100\n",
      "483/483 [==============================] - 0s 177us/step - loss: 0.0198 - acc: 0.9928\n",
      "Epoch 76/100\n",
      "483/483 [==============================] - 0s 206us/step - loss: 0.0194 - acc: 0.9948\n",
      "Epoch 77/100\n",
      "483/483 [==============================] - 0s 197us/step - loss: 0.0190 - acc: 0.9928\n",
      "Epoch 78/100\n",
      "483/483 [==============================] - 0s 255us/step - loss: 0.0188 - acc: 0.9938\n",
      "Epoch 79/100\n",
      "483/483 [==============================] - 0s 264us/step - loss: 0.0185 - acc: 0.9938\n",
      "Epoch 80/100\n",
      "483/483 [==============================] - 0s 188us/step - loss: 0.0180 - acc: 0.9938\n",
      "Epoch 81/100\n",
      "483/483 [==============================] - 0s 223us/step - loss: 0.0176 - acc: 0.9938\n",
      "Epoch 82/100\n",
      "483/483 [==============================] - 0s 250us/step - loss: 0.0174 - acc: 0.9948\n",
      "Epoch 83/100\n"
     ]
    },
    {
     "name": "stdout",
     "output_type": "stream",
     "text": [
      "483/483 [==============================] - 0s 300us/step - loss: 0.0170 - acc: 0.9948\n",
      "Epoch 84/100\n",
      "483/483 [==============================] - 0s 204us/step - loss: 0.0166 - acc: 0.9948\n",
      "Epoch 85/100\n",
      "483/483 [==============================] - ETA: 0s - loss: 0.0103 - acc: 1.000 - 0s 210us/step - loss: 0.0164 - acc: 0.9959\n",
      "Epoch 86/100\n",
      "483/483 [==============================] - 0s 192us/step - loss: 0.0160 - acc: 0.9948\n",
      "Epoch 87/100\n",
      "483/483 [==============================] - 0s 176us/step - loss: 0.0157 - acc: 0.9959\n",
      "Epoch 88/100\n",
      "483/483 [==============================] - 0s 152us/step - loss: 0.0153 - acc: 0.9948\n",
      "Epoch 89/100\n",
      "483/483 [==============================] - 0s 435us/step - loss: 0.0153 - acc: 0.9959\n",
      "Epoch 90/100\n",
      "483/483 [==============================] - 0s 170us/step - loss: 0.0148 - acc: 0.9948\n",
      "Epoch 91/100\n",
      "483/483 [==============================] - 0s 198us/step - loss: 0.0145 - acc: 0.9959\n",
      "Epoch 92/100\n",
      "483/483 [==============================] - 0s 214us/step - loss: 0.0142 - acc: 0.9959\n",
      "Epoch 93/100\n",
      "483/483 [==============================] - 0s 190us/step - loss: 0.0138 - acc: 0.9959\n",
      "Epoch 94/100\n",
      "483/483 [==============================] - 0s 184us/step - loss: 0.0137 - acc: 0.9959\n",
      "Epoch 95/100\n",
      "483/483 [==============================] - 0s 181us/step - loss: 0.0133 - acc: 0.9959\n",
      "Epoch 96/100\n",
      "483/483 [==============================] - 0s 155us/step - loss: 0.0131 - acc: 0.9959\n",
      "Epoch 97/100\n",
      "483/483 [==============================] - 0s 172us/step - loss: 0.0127 - acc: 0.9959\n",
      "Epoch 98/100\n",
      "483/483 [==============================] - 0s 159us/step - loss: 0.0126 - acc: 0.9959\n",
      "Epoch 99/100\n",
      "483/483 [==============================] - 0s 150us/step - loss: 0.0122 - acc: 0.9959\n",
      "Epoch 100/100\n",
      "483/483 [==============================] - 0s 154us/step - loss: 0.0121 - acc: 0.9959\n"
     ]
    }
   ],
   "source": [
    "# Model training\n",
    "history = model.fit(X_train_2, y_train_2, epochs=100, batch_size=32)"
   ]
  },
  {
   "cell_type": "code",
   "execution_count": 276,
   "metadata": {},
   "outputs": [
    {
     "name": "stdout",
     "output_type": "stream",
     "text": [
      "Accuracy is: 0.9767441860465116\n"
     ]
    }
   ],
   "source": [
    "# Check model accuracy\n",
    "y_pred_2 = model.predict(X_test_2)\n",
    "\n",
    "pred = list()\n",
    "for i in range(len(y_pred_2)):\n",
    "    pred.append(np.argmax(y_pred_2[i]))\n",
    "\n",
    "test = list()\n",
    "for i in range(len(y_test_2)):\n",
    "    test.append(np.argmax(y_test_2[i]))\n",
    "\n",
    "lululu = accuracy_score(pred,test)\n",
    "print('Accuracy is:', lululu)"
   ]
  },
  {
   "cell_type": "code",
   "execution_count": 277,
   "metadata": {},
   "outputs": [
    {
     "name": "stdout",
     "output_type": "stream",
     "text": [
      "\n",
      "testing set accuracy with logit is: 0.9767441860465116\n"
     ]
    }
   ],
   "source": [
    "ANNacc = lululu\n",
    "print(f\"\\ntesting set accuracy with logit is: {ANNacc}\")"
   ]
  },
  {
   "cell_type": "markdown",
   "metadata": {},
   "source": [
    "### 1. c) Compare the performance of the neural net with the logit. Which one seems better at the job and why might that be?\n",
    "Please also comment on which model you would choose to implement in a case like this and why."
   ]
  },
  {
   "cell_type": "code",
   "execution_count": 271,
   "metadata": {
    "scrolled": true
   },
   "outputs": [
    {
     "data": {
      "text/plain": [
       "'Well, from what I have done it looks like the neural net works better than the logit as the accuracy is higher. But I sadly do not trust my neural net enough to say that it works definitely better. I am very new to machine learning and even newer to neural networks so I would rather trust the logit. Also the dataset is not that big and ANN needs a lot of data to train from what I know. Maybe the higher accuracy is due to the fact that the ANN model is overfiting.'"
      ]
     },
     "execution_count": 271,
     "metadata": {},
     "output_type": "execute_result"
    }
   ],
   "source": [
    "'''Well, from what I have done it looks like the neural net works better than the logit as the accuracy is higher. But I sadly do not trust my neural net enough to say that it works definitely better. I am very new to machine learning and even newer to neural networks so I would rather trust the logit. Also the dataset is not that big and ANN needs a lot of data to train from what I know. Maybe the higher accuracy is due to the fact that the ANN model is overfiting.'''"
   ]
  },
  {
   "cell_type": "code",
   "execution_count": 282,
   "metadata": {},
   "outputs": [
    {
     "data": {
      "text/plain": [
       "'Feel free to give feedback, that would be very much appreciated'"
      ]
     },
     "execution_count": 282,
     "metadata": {},
     "output_type": "execute_result"
    }
   ],
   "source": [
    "'''Feel free to give feedback, that would be very much appreciated'''"
   ]
  },
  {
   "cell_type": "markdown",
   "metadata": {},
   "source": [
    "# Question 2:\n",
    "### Your coding skills have gained you a job as an options trader at a successful hedge fund! Congratulations!!\n",
    "\n",
    "At the first day, your boss comes to you and asks you, whether he should buy a _call option_* with a certain set of characteristics for 1€.\n",
    "\n",
    "    *A call option gives you the right (but not obligation) to buy a share for a certain strike price. In other words, if the stock price is higher than the strike price, you get the difference, otherwise, you get 0: \n",
    "    \n",
    "    callpayoff = max(stockprice - strikeprice, 0) \n",
    "\n",
    "To price the option, you shall build a monte-carlo simulator which generatates _1 000 000_ random walks, each representing the stock price in one year, which is when the option can be expired. By taking the average of these payouts, you will get the expected payout at expiry!\n",
    "\n",
    "Luckily, your boss has also given you the characteristics and hints for how the stock price moves: \n",
    "\n",
    "The stock price follows a student T distribution with 3 degrees of freedom (the rvs function within the t class from scipy.stats package is a great tool for creating random walks with this distribution: https://docs.scipy.org/doc/scipy/reference/generated/scipy.stats.t.html  ctrl+f \"rvs\") \n",
    "\n",
    "- The stock price today: 69\n",
    "- Stock returns follow student T distribution with 3 degrees of freedom\n",
    "- drift of 10% per year \n",
    "- volatility of 20%\n",
    "- strike price of the option is 96\n",
    "\n",
    "### Build a function that returns the price of the call option, and shows your boss what payout he can expect from the option in order to explain him, whether he should buy it or not.\n",
    "\n",
    "    P.S.: If you run into trouble on your way, you can always ask for tips from your boss and since he is a nice guy, he will also give a good grade for all attempts!"
   ]
  },
  {
   "cell_type": "code",
   "execution_count": 278,
   "metadata": {},
   "outputs": [
    {
     "data": {
      "text/plain": [
       "'\\nWork in progress '"
      ]
     },
     "execution_count": 278,
     "metadata": {},
     "output_type": "execute_result"
    }
   ],
   "source": [
    "'''\n",
    "Work in progress '''"
   ]
  },
  {
   "cell_type": "markdown",
   "metadata": {},
   "source": [
    "# Good luck!\n",
    "\n",
    "Don't forget: google, github and stack overflow are your best friends!\n"
   ]
  }
 ],
 "metadata": {
  "kernelspec": {
   "display_name": "Python 3",
   "language": "python",
   "name": "python3"
  },
  "language_info": {
   "codemirror_mode": {
    "name": "ipython",
    "version": 3
   },
   "file_extension": ".py",
   "mimetype": "text/x-python",
   "name": "python",
   "nbconvert_exporter": "python",
   "pygments_lexer": "ipython3",
   "version": "3.7.3"
  }
 },
 "nbformat": 4,
 "nbformat_minor": 4
}
